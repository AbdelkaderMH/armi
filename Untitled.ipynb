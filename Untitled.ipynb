{
 "cells": [
  {
   "cell_type": "code",
   "execution_count": 1,
   "metadata": {},
   "outputs": [],
   "source": [
    "import pandas as pd\n",
    "import numpy as np\n"
   ]
  },
  {
   "cell_type": "code",
   "execution_count": null,
   "metadata": {},
   "outputs": [],
   "source": []
  },
  {
   "cell_type": "code",
   "execution_count": 2,
   "metadata": {},
   "outputs": [],
   "source": [
    "df_train = pd.read_csv('data/ArMI2021_training.tsv', encoding ='utf-8', sep='\\t')"
   ]
  },
  {
   "cell_type": "code",
   "execution_count": 3,
   "metadata": {},
   "outputs": [
    {
     "data": {
      "text/html": [
       "<div>\n",
       "<style scoped>\n",
       "    .dataframe tbody tr th:only-of-type {\n",
       "        vertical-align: middle;\n",
       "    }\n",
       "\n",
       "    .dataframe tbody tr th {\n",
       "        vertical-align: top;\n",
       "    }\n",
       "\n",
       "    .dataframe thead th {\n",
       "        text-align: right;\n",
       "    }\n",
       "</style>\n",
       "<table border=\"1\" class=\"dataframe\">\n",
       "  <thead>\n",
       "    <tr style=\"text-align: right;\">\n",
       "      <th></th>\n",
       "      <th>tweet_id</th>\n",
       "      <th>text</th>\n",
       "      <th>misogyny</th>\n",
       "      <th>category</th>\n",
       "    </tr>\n",
       "  </thead>\n",
       "  <tbody>\n",
       "    <tr>\n",
       "      <td>0</td>\n",
       "      <td>0</td>\n",
       "      <td>مستخدم@ وجعجع رئيسك رجل شو؟ ؟؟</td>\n",
       "      <td>none</td>\n",
       "      <td>none</td>\n",
       "    </tr>\n",
       "    <tr>\n",
       "      <td>1</td>\n",
       "      <td>1</td>\n",
       "      <td>مستخدم@ انتي مصدقه انك لكي اي لازمه انتي بنسبه...</td>\n",
       "      <td>misogyny</td>\n",
       "      <td>discredit</td>\n",
       "    </tr>\n",
       "    <tr>\n",
       "      <td>2</td>\n",
       "      <td>2</td>\n",
       "      <td>مستخدم@ متل كعب صباطك شعب رتش</td>\n",
       "      <td>none</td>\n",
       "      <td>none</td>\n",
       "    </tr>\n",
       "    <tr>\n",
       "      <td>3</td>\n",
       "      <td>3</td>\n",
       "      <td>مستخدم@ مستخدم@ مستخدم@ ليش الهجوم عليها؟ هي ع...</td>\n",
       "      <td>none</td>\n",
       "      <td>none</td>\n",
       "    </tr>\n",
       "    <tr>\n",
       "      <td>4</td>\n",
       "      <td>4</td>\n",
       "      <td>مستخدم@ اهلا وسهلا فيكي بطرابلس</td>\n",
       "      <td>none</td>\n",
       "      <td>none</td>\n",
       "    </tr>\n",
       "  </tbody>\n",
       "</table>\n",
       "</div>"
      ],
      "text/plain": [
       "   tweet_id                                               text  misogyny  \\\n",
       "0         0                     مستخدم@ وجعجع رئيسك رجل شو؟ ؟؟      none   \n",
       "1         1  مستخدم@ انتي مصدقه انك لكي اي لازمه انتي بنسبه...  misogyny   \n",
       "2         2                      مستخدم@ متل كعب صباطك شعب رتش      none   \n",
       "3         3  مستخدم@ مستخدم@ مستخدم@ ليش الهجوم عليها؟ هي ع...      none   \n",
       "4         4                    مستخدم@ اهلا وسهلا فيكي بطرابلس      none   \n",
       "\n",
       "    category  \n",
       "0       none  \n",
       "1  discredit  \n",
       "2       none  \n",
       "3       none  \n",
       "4       none  "
      ]
     },
     "execution_count": 3,
     "metadata": {},
     "output_type": "execute_result"
    }
   ],
   "source": [
    "df_train.head()"
   ]
  },
  {
   "cell_type": "code",
   "execution_count": 4,
   "metadata": {},
   "outputs": [
    {
     "data": {
      "text/plain": [
       "none                              3061\n",
       "discredit                         2868\n",
       "damning                            669\n",
       "stereotyping & objectification     653\n",
       "threat of violence                 230\n",
       "dominance                          219\n",
       "derailing                          105\n",
       "sexual harassment                   61\n",
       "Name: category, dtype: int64"
      ]
     },
     "execution_count": 4,
     "metadata": {},
     "output_type": "execute_result"
    }
   ],
   "source": [
    "df_train.category.value_counts()"
   ]
  },
  {
   "cell_type": "code",
   "execution_count": 37,
   "metadata": {},
   "outputs": [],
   "source": [
    "df_others = df_train[(df_train['category'] != 'none') &  (df_train['category'] != 'discredit' )]"
   ]
  },
  {
   "cell_type": "code",
   "execution_count": 38,
   "metadata": {},
   "outputs": [
    {
     "data": {
      "text/plain": [
       "'مستخدم@ لو ابوك حي حط أقذر جزمة عنده في فمك'"
      ]
     },
     "execution_count": 38,
     "metadata": {},
     "output_type": "execute_result"
    }
   ],
   "source": [
    "df_others.iloc[0]['text']"
   ]
  },
  {
   "cell_type": "code",
   "execution_count": 65,
   "metadata": {},
   "outputs": [],
   "source": [
    "df_aug = pd.DataFrame(columns=['tweet_id', 'text', 'misogyny', 'category'])"
   ]
  },
  {
   "cell_type": "code",
   "execution_count": 64,
   "metadata": {},
   "outputs": [],
   "source": [
    "dic_dup = { 'damning':4,\n",
    "            'derailing':20,\n",
    "            'dominance': 13,\n",
    "            'sexual harassment': 40,\n",
    "            'stereotyping & objectification':4,\n",
    "            'threat of violence':14}"
   ]
  },
  {
   "cell_type": "code",
   "execution_count": 50,
   "metadata": {},
   "outputs": [
    {
     "data": {
      "text/plain": [
       "1937"
      ]
     },
     "execution_count": 50,
     "metadata": {},
     "output_type": "execute_result"
    }
   ],
   "source": [
    "df_others.shape[0]"
   ]
  },
  {
   "cell_type": "code",
   "execution_count": 66,
   "metadata": {},
   "outputs": [],
   "source": [
    "for i in range(df_others.shape[0]):\n",
    "    current = df_others.iloc[i]\n",
    "    tweet_id = current['tweet_id']\n",
    "    text = current['text']\n",
    "    label_mis= current['misogyny']\n",
    "    label_cat = current['category']\n",
    "\n",
    "    aug_ratio = dic_dup[label_cat]\n",
    "    for k in range(aug_ratio):\n",
    "        tokens = text.split(' ')\n",
    "        l = len(tokens)\n",
    "        n = int(0.2 * l)\n",
    "        indices = np.random.choice(l, n, replace=False)\n",
    "        for j in range(len(indices)):\n",
    "            tokens[indices[j]] = '[mask]'\n",
    "        new_text = ' '.join(tokens)\n",
    "        entry = {'tweet_id': tweet_id, 'text': new_text, 'misogyny': label_mis, 'category': label_cat}\n",
    "        df_aug = df_aug.append(entry, ignore_index=True)\n",
    "    "
   ]
  },
  {
   "cell_type": "code",
   "execution_count": 67,
   "metadata": {},
   "outputs": [
    {
     "data": {
      "text/html": [
       "<div>\n",
       "<style scoped>\n",
       "    .dataframe tbody tr th:only-of-type {\n",
       "        vertical-align: middle;\n",
       "    }\n",
       "\n",
       "    .dataframe tbody tr th {\n",
       "        vertical-align: top;\n",
       "    }\n",
       "\n",
       "    .dataframe thead th {\n",
       "        text-align: right;\n",
       "    }\n",
       "</style>\n",
       "<table border=\"1\" class=\"dataframe\">\n",
       "  <thead>\n",
       "    <tr style=\"text-align: right;\">\n",
       "      <th></th>\n",
       "      <th>tweet_id</th>\n",
       "      <th>text</th>\n",
       "      <th>misogyny</th>\n",
       "      <th>category</th>\n",
       "    </tr>\n",
       "  </thead>\n",
       "  <tbody>\n",
       "    <tr>\n",
       "      <td>0</td>\n",
       "      <td>8</td>\n",
       "      <td>مستخدم@ لو ابوك [mask] [mask] أقذر جزمة عنده ف...</td>\n",
       "      <td>misogyny</td>\n",
       "      <td>threat of violence</td>\n",
       "    </tr>\n",
       "    <tr>\n",
       "      <td>1</td>\n",
       "      <td>8</td>\n",
       "      <td>مستخدم@ لو ابوك حي [mask] أقذر [mask] عنده في فمك</td>\n",
       "      <td>misogyny</td>\n",
       "      <td>threat of violence</td>\n",
       "    </tr>\n",
       "    <tr>\n",
       "      <td>2</td>\n",
       "      <td>8</td>\n",
       "      <td>مستخدم@ [mask] ابوك حي حط أقذر جزمة عنده في [m...</td>\n",
       "      <td>misogyny</td>\n",
       "      <td>threat of violence</td>\n",
       "    </tr>\n",
       "    <tr>\n",
       "      <td>3</td>\n",
       "      <td>8</td>\n",
       "      <td>مستخدم@ لو ابوك حي حط [mask] جزمة [mask] في فمك</td>\n",
       "      <td>misogyny</td>\n",
       "      <td>threat of violence</td>\n",
       "    </tr>\n",
       "    <tr>\n",
       "      <td>4</td>\n",
       "      <td>8</td>\n",
       "      <td>مستخدم@ [mask] [mask] حي حط أقذر جزمة عنده في فمك</td>\n",
       "      <td>misogyny</td>\n",
       "      <td>threat of violence</td>\n",
       "    </tr>\n",
       "    <tr>\n",
       "      <td>5</td>\n",
       "      <td>8</td>\n",
       "      <td>مستخدم@ [mask] ابوك [mask] حط أقذر جزمة عنده ف...</td>\n",
       "      <td>misogyny</td>\n",
       "      <td>threat of violence</td>\n",
       "    </tr>\n",
       "    <tr>\n",
       "      <td>6</td>\n",
       "      <td>8</td>\n",
       "      <td>مستخدم@ لو ابوك حي حط أقذر جزمة عنده [mask] [m...</td>\n",
       "      <td>misogyny</td>\n",
       "      <td>threat of violence</td>\n",
       "    </tr>\n",
       "    <tr>\n",
       "      <td>7</td>\n",
       "      <td>8</td>\n",
       "      <td>مستخدم@ لو ابوك حي حط أقذر [mask] عنده في [mask]</td>\n",
       "      <td>misogyny</td>\n",
       "      <td>threat of violence</td>\n",
       "    </tr>\n",
       "    <tr>\n",
       "      <td>8</td>\n",
       "      <td>8</td>\n",
       "      <td>مستخدم@ لو ابوك حي [mask] [mask] جزمة عنده في فمك</td>\n",
       "      <td>misogyny</td>\n",
       "      <td>threat of violence</td>\n",
       "    </tr>\n",
       "    <tr>\n",
       "      <td>9</td>\n",
       "      <td>8</td>\n",
       "      <td>مستخدم@ لو ابوك حي [mask] أقذر جزمة [mask] في فمك</td>\n",
       "      <td>misogyny</td>\n",
       "      <td>threat of violence</td>\n",
       "    </tr>\n",
       "  </tbody>\n",
       "</table>\n",
       "</div>"
      ],
      "text/plain": [
       "  tweet_id                                               text  misogyny  \\\n",
       "0        8  مستخدم@ لو ابوك [mask] [mask] أقذر جزمة عنده ف...  misogyny   \n",
       "1        8  مستخدم@ لو ابوك حي [mask] أقذر [mask] عنده في فمك  misogyny   \n",
       "2        8  مستخدم@ [mask] ابوك حي حط أقذر جزمة عنده في [m...  misogyny   \n",
       "3        8    مستخدم@ لو ابوك حي حط [mask] جزمة [mask] في فمك  misogyny   \n",
       "4        8  مستخدم@ [mask] [mask] حي حط أقذر جزمة عنده في فمك  misogyny   \n",
       "5        8  مستخدم@ [mask] ابوك [mask] حط أقذر جزمة عنده ف...  misogyny   \n",
       "6        8  مستخدم@ لو ابوك حي حط أقذر جزمة عنده [mask] [m...  misogyny   \n",
       "7        8   مستخدم@ لو ابوك حي حط أقذر [mask] عنده في [mask]  misogyny   \n",
       "8        8  مستخدم@ لو ابوك حي [mask] [mask] جزمة عنده في فمك  misogyny   \n",
       "9        8  مستخدم@ لو ابوك حي [mask] أقذر جزمة [mask] في فمك  misogyny   \n",
       "\n",
       "             category  \n",
       "0  threat of violence  \n",
       "1  threat of violence  \n",
       "2  threat of violence  \n",
       "3  threat of violence  \n",
       "4  threat of violence  \n",
       "5  threat of violence  \n",
       "6  threat of violence  \n",
       "7  threat of violence  \n",
       "8  threat of violence  \n",
       "9  threat of violence  "
      ]
     },
     "execution_count": 67,
     "metadata": {},
     "output_type": "execute_result"
    }
   ],
   "source": [
    "df_aug.head(10)"
   ]
  },
  {
   "cell_type": "code",
   "execution_count": 68,
   "metadata": {},
   "outputs": [
    {
     "data": {
      "text/plain": [
       "threat of violence                3220\n",
       "dominance                         2847\n",
       "damning                           2676\n",
       "stereotyping & objectification    2612\n",
       "sexual harassment                 2440\n",
       "derailing                         2100\n",
       "Name: category, dtype: int64"
      ]
     },
     "execution_count": 68,
     "metadata": {},
     "output_type": "execute_result"
    }
   ],
   "source": [
    "df_aug.category.value_counts()"
   ]
  },
  {
   "cell_type": "code",
   "execution_count": 69,
   "metadata": {},
   "outputs": [
    {
     "data": {
      "text/plain": [
       "(12538, 4)"
      ]
     },
     "execution_count": 69,
     "metadata": {},
     "output_type": "execute_result"
    }
   ],
   "source": [
    "df_aug.drop_duplicates(subset=['text'], keep='first', inplace=True)\n",
    "df_aug.shape"
   ]
  },
  {
   "cell_type": "code",
   "execution_count": 70,
   "metadata": {},
   "outputs": [
    {
     "data": {
      "text/plain": [
       "dominance                         2417\n",
       "stereotyping & objectification    2379\n",
       "threat of violence                2374\n",
       "damning                           2368\n",
       "derailing                         1610\n",
       "sexual harassment                 1390\n",
       "Name: category, dtype: int64"
      ]
     },
     "execution_count": 70,
     "metadata": {},
     "output_type": "execute_result"
    }
   ],
   "source": [
    "df_aug.category.value_counts()"
   ]
  },
  {
   "cell_type": "code",
   "execution_count": 36,
   "metadata": {},
   "outputs": [
    {
     "data": {
      "text/html": [
       "<div>\n",
       "<style scoped>\n",
       "    .dataframe tbody tr th:only-of-type {\n",
       "        vertical-align: middle;\n",
       "    }\n",
       "\n",
       "    .dataframe tbody tr th {\n",
       "        vertical-align: top;\n",
       "    }\n",
       "\n",
       "    .dataframe thead th {\n",
       "        text-align: right;\n",
       "    }\n",
       "</style>\n",
       "<table border=\"1\" class=\"dataframe\">\n",
       "  <thead>\n",
       "    <tr style=\"text-align: right;\">\n",
       "      <th></th>\n",
       "      <th>tweet_id</th>\n",
       "      <th>text</th>\n",
       "      <th>misogyny</th>\n",
       "      <th>category</th>\n",
       "    </tr>\n",
       "  </thead>\n",
       "  <tbody>\n",
       "    <tr>\n",
       "      <td>0</td>\n",
       "      <td>8</td>\n",
       "      <td>مستخدم@ لو ابوك حي حط أقذر جزمة [mask] في فمك</td>\n",
       "      <td>misogyny</td>\n",
       "      <td>threat of violence</td>\n",
       "    </tr>\n",
       "    <tr>\n",
       "      <td>1</td>\n",
       "      <td>8</td>\n",
       "      <td>مستخدم@ لو ابوك حي حط أقذر جزمة [mask] [mask] فمك</td>\n",
       "      <td>misogyny</td>\n",
       "      <td>threat of violence</td>\n",
       "    </tr>\n",
       "    <tr>\n",
       "      <td>4</td>\n",
       "      <td>8</td>\n",
       "      <td>مستخدم@ لو ابوك حي [mask] أقذر جزمة [mask] [ma...</td>\n",
       "      <td>misogyny</td>\n",
       "      <td>threat of violence</td>\n",
       "    </tr>\n",
       "    <tr>\n",
       "      <td>5</td>\n",
       "      <td>8</td>\n",
       "      <td>مستخدم@ [mask] ابوك حي [mask] أقذر جزمة [mask]...</td>\n",
       "      <td>misogyny</td>\n",
       "      <td>threat of violence</td>\n",
       "    </tr>\n",
       "    <tr>\n",
       "      <td>6</td>\n",
       "      <td>8</td>\n",
       "      <td>مستخدم@ [mask] [mask] حي [mask] أقذر جزمة [mas...</td>\n",
       "      <td>misogyny</td>\n",
       "      <td>threat of violence</td>\n",
       "    </tr>\n",
       "  </tbody>\n",
       "</table>\n",
       "</div>"
      ],
      "text/plain": [
       "  tweet_id                                               text  misogyny  \\\n",
       "0        8      مستخدم@ لو ابوك حي حط أقذر جزمة [mask] في فمك  misogyny   \n",
       "1        8  مستخدم@ لو ابوك حي حط أقذر جزمة [mask] [mask] فمك  misogyny   \n",
       "4        8  مستخدم@ لو ابوك حي [mask] أقذر جزمة [mask] [ma...  misogyny   \n",
       "5        8  مستخدم@ [mask] ابوك حي [mask] أقذر جزمة [mask]...  misogyny   \n",
       "6        8  مستخدم@ [mask] [mask] حي [mask] أقذر جزمة [mas...  misogyny   \n",
       "\n",
       "             category  \n",
       "0  threat of violence  \n",
       "1  threat of violence  \n",
       "4  threat of violence  \n",
       "5  threat of violence  \n",
       "6  threat of violence  "
      ]
     },
     "execution_count": 36,
     "metadata": {},
     "output_type": "execute_result"
    }
   ],
   "source": [
    "df_aug.head()"
   ]
  },
  {
   "cell_type": "code",
   "execution_count": 5,
   "metadata": {},
   "outputs": [
    {
     "data": {
      "text/plain": [
       "(7866, 4)"
      ]
     },
     "execution_count": 5,
     "metadata": {},
     "output_type": "execute_result"
    }
   ],
   "source": [
    "        dict_category = {\n",
    "            'none': 0,\n",
    "            'damning':1,\n",
    "            'derailing':2,\n",
    "            'discredit': 3,\n",
    "            'dominance': 4,\n",
    "            'sexual harassment': 5,\n",
    "            'stereotyping & objectification':6,\n",
    "            'threat of violence':7\n",
    "        }"
   ]
  },
  {
   "cell_type": "code",
   "execution_count": 13,
   "metadata": {},
   "outputs": [
    {
     "data": {
      "text/plain": [
       "[1,\n",
       " 4.575485799701046,\n",
       " 29.152380952380952,\n",
       " 1.0672942817294282,\n",
       " 13.97716894977169,\n",
       " 50.18032786885246,\n",
       " 4.687595712098009,\n",
       " 13.308695652173913]"
      ]
     },
     "execution_count": 13,
     "metadata": {},
     "output_type": "execute_result"
    }
   ],
   "source": [
    "weight = [1, 3061 / 669, 3061 / 105, 3061 / 2868, 3061 / 219, 3061 / 61, 3061 / 653, 3061 / 230]\n",
    "weight"
   ]
  },
  {
   "cell_type": "code",
   "execution_count": 8,
   "metadata": {},
   "outputs": [],
   "source": [
    "import torch"
   ]
  },
  {
   "cell_type": "code",
   "execution_count": 9,
   "metadata": {},
   "outputs": [],
   "source": [
    "x = torch.rand((16, 4, 786))"
   ]
  },
  {
   "cell_type": "code",
   "execution_count": 10,
   "metadata": {},
   "outputs": [
    {
     "data": {
      "text/plain": [
       "tensor([[[0.0223, 0.7733, 0.9135,  ..., 0.4860, 0.5270, 0.6891],\n",
       "         [0.5682, 0.0827, 0.5943,  ..., 0.6626, 0.5870, 0.2593],\n",
       "         [0.1358, 0.4986, 0.2679,  ..., 0.8284, 0.9565, 0.0716],\n",
       "         [0.3721, 0.3775, 0.2131,  ..., 0.8526, 0.5237, 0.5365]],\n",
       "\n",
       "        [[0.1675, 0.9279, 0.3126,  ..., 0.0145, 0.0930, 0.4688],\n",
       "         [0.2287, 0.6798, 0.6368,  ..., 0.0882, 0.4509, 0.4889],\n",
       "         [0.9996, 0.7300, 0.5812,  ..., 0.0812, 0.7412, 0.1769],\n",
       "         [0.9678, 0.9134, 0.7666,  ..., 0.6318, 0.7140, 0.7387]],\n",
       "\n",
       "        [[0.1307, 0.8343, 0.6645,  ..., 0.4366, 0.6830, 0.9165],\n",
       "         [0.6643, 0.4687, 0.4463,  ..., 0.1114, 0.9390, 0.0232],\n",
       "         [0.9962, 0.1260, 0.1286,  ..., 0.6697, 0.3288, 0.9250],\n",
       "         [0.9386, 0.0720, 0.2011,  ..., 0.2557, 0.4618, 0.1924]],\n",
       "\n",
       "        ...,\n",
       "\n",
       "        [[0.1575, 0.3101, 0.5335,  ..., 0.1838, 0.3923, 0.9417],\n",
       "         [0.3204, 0.9862, 0.5338,  ..., 0.0843, 0.0119, 0.1047],\n",
       "         [0.6252, 0.4291, 0.3351,  ..., 0.4256, 0.6411, 0.1744],\n",
       "         [0.6852, 0.0763, 0.6245,  ..., 0.5759, 0.2224, 0.7535]],\n",
       "\n",
       "        [[0.0279, 0.0483, 0.4964,  ..., 0.9367, 0.9086, 0.5483],\n",
       "         [0.7557, 0.7680, 0.2633,  ..., 0.4647, 0.8786, 0.0351],\n",
       "         [0.8199, 0.6508, 0.4537,  ..., 0.3821, 0.9012, 0.5203],\n",
       "         [0.0764, 0.8764, 0.0967,  ..., 0.5329, 0.4032, 0.8722]],\n",
       "\n",
       "        [[0.3720, 0.4887, 0.4429,  ..., 0.4912, 0.1142, 0.1669],\n",
       "         [0.5165, 0.8151, 0.3789,  ..., 0.4719, 0.7166, 0.8352],\n",
       "         [0.2792, 0.1333, 0.0538,  ..., 0.2568, 0.5504, 0.6778],\n",
       "         [0.9518, 0.9029, 0.0398,  ..., 0.2111, 0.9673, 0.9109]]])"
      ]
     },
     "execution_count": 10,
     "metadata": {},
     "output_type": "execute_result"
    }
   ],
   "source": [
    "x"
   ]
  },
  {
   "cell_type": "code",
   "execution_count": 11,
   "metadata": {},
   "outputs": [
    {
     "data": {
      "text/plain": [
       "torch.Size([16, 786])"
      ]
     },
     "execution_count": 11,
     "metadata": {},
     "output_type": "execute_result"
    }
   ],
   "source": [
    "x.max(dim=1).values.shape"
   ]
  }
 ],
 "metadata": {
  "kernelspec": {
   "display_name": "Python 3",
   "language": "python",
   "name": "python3"
  },
  "language_info": {
   "codemirror_mode": {
    "name": "ipython",
    "version": 3
   },
   "file_extension": ".py",
   "mimetype": "text/x-python",
   "name": "python",
   "nbconvert_exporter": "python",
   "pygments_lexer": "ipython3",
   "version": "3.6.9"
  }
 },
 "nbformat": 4,
 "nbformat_minor": 4
}
