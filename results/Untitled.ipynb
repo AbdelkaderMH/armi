{
 "cells": [
  {
   "cell_type": "code",
   "execution_count": 1,
   "metadata": {},
   "outputs": [],
   "source": [
    "import pandas as pd\n",
    "\n",
    "def classification_report_csv(report):\n",
    "    report_data = []\n",
    "    lines = report.split('\\n')\n",
    "    for line in lines[2:-3]:\n",
    "        row = {}\n",
    "        row_data = line.split('      ')\n",
    "        row['class'] = row_data[0]\n",
    "        row['precision'] = float(row_data[1])\n",
    "        row['recall'] = float(row_data[2])\n",
    "        row['f1_score'] = float(row_data[3])\n",
    "        row['support'] = float(row_data[4])\n",
    "        report_data.append(row)"
   ]
  },
  {
   "cell_type": "code",
   "execution_count": 3,
   "metadata": {},
   "outputs": [
    {
     "ename": "IndentationError",
     "evalue": "unindent does not match any outer indentation level (<tokenize>, line 4)",
     "output_type": "error",
     "traceback": [
      "\u001b[1;36m  File \u001b[1;32m\"<tokenize>\"\u001b[1;36m, line \u001b[1;32m4\u001b[0m\n\u001b[1;33m    damning     0.8841    0.9104    0.8971        67\u001b[0m\n\u001b[1;37m    ^\u001b[0m\n\u001b[1;31mIndentationError\u001b[0m\u001b[1;31m:\u001b[0m unindent does not match any outer indentation level\n"
     ]
    }
   ],
   "source": [
    "report = \"                              precision    recall  f1-score   support\n",
    "\n",
    "                          none     0.8509    0.8954    0.8726       306\n",
    "                       damning     0.8841    0.9104    0.8971        67\n",
    "                     derailing     0.2500    0.0909    0.1333        11\n",
    "                     discredit     0.8247    0.8362    0.8304       287\n",
    "                     dominance     0.3636    0.3636    0.3636        22\n",
    "             sexual harassment     1.0000    0.3333    0.5000         6\n",
    "stereotyping & objectification     0.6786    0.5846    0.6281        65\n",
    "            threat of violence     0.5714    0.5217    0.5455        23\n",
    "\n",
    "                      accuracy                         0.8081       787\n",
    "                     macro avg     0.6779    0.5670    0.5963       787\n",
    "                  weighted avg     0.8009    0.8081    0.8022       787\""
   ]
  },
  {
   "cell_type": "code",
   "execution_count": null,
   "metadata": {},
   "outputs": [],
   "source": [
    "dataframe = pd.DataFrame.from_dict(report_data)\n",
    "dataframe.to_csv('classification_report.csv', index = False)\n"
   ]
  }
 ],
 "metadata": {
  "kernelspec": {
   "display_name": "Python 3",
   "language": "python",
   "name": "python3"
  },
  "language_info": {
   "codemirror_mode": {
    "name": "ipython",
    "version": 3
   },
   "file_extension": ".py",
   "mimetype": "text/x-python",
   "name": "python",
   "nbconvert_exporter": "python",
   "pygments_lexer": "ipython3",
   "version": "3.6.9"
  }
 },
 "nbformat": 4,
 "nbformat_minor": 4
}
